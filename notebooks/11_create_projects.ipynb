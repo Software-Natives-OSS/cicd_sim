{
 "cells": [
  {
   "cell_type": "markdown",
   "metadata": {},
   "source": [
    "# Create Project\n",
    "In this notebook, we learn how to create and setup the projects.\n",
    "\n",
    "To keep it simple, we're going to create only two projects:\n",
    "\n",
    "- Library called `lib`: E.g. a library static libraries and header files. This library has no further dependencies\n",
    "- Application called `app`: An application that depends on `Library`. The build artefact of this application is e.g. an `.exe` file"
   ]
  },
  {
   "cell_type": "markdown",
   "metadata": {},
   "source": [
    "## Preparation\n",
    "As shown in a different notebook, we first have to build the infrastructure. This notebook assumes the reader has worked through the other notebook and thus therefore not explain anything here."
   ]
  },
  {
   "cell_type": "code",
   "execution_count": null,
   "metadata": {},
   "outputs": [],
   "source": [
    "from cicd_sim import *\n",
    "bitbucket = Repos()\n",
    "artifactory = Artifactory()\n",
    "jenkins = Jenkins(artifactory, bitbucket)"
   ]
  },
  {
   "cell_type": "markdown",
   "metadata": {},
   "source": [
    "## Setup Library\n",
    "First, we create the repository for the library. In the real world, you'd e.g. click the \"New Repository\" menu entry on GitHub. We name the repo just `lib` to keep its name short."
   ]
  },
  {
   "cell_type": "code",
   "execution_count": null,
   "metadata": {},
   "outputs": [],
   "source": [
    "lib = bitbucket.create_repo('lib')"
   ]
  },
  {
   "cell_type": "markdown",
   "metadata": {},
   "source": [
    "By default, a `master` branch will be created. To keep things simple, we just work with that branch"
   ]
  },
  {
   "cell_type": "markdown",
   "metadata": {},
   "source": [
    "### Version introduction\n",
    "Now it's time to introduce \"versioning\". CICD simulator helps tangling Conan versioning which is based on https://semver.org.\n",
    "\n",
    "Each and every project (libraries, applications, ...) must have a version. Other projects may then \"require\" specific versions or version ranges of other projects.\n",
    "\n",
    "E.g. An application may \"require\" a library names `lib` at version `1.2.3-pre.0`"
   ]
  },
  {
   "cell_type": "markdown",
   "metadata": {},
   "source": [
    "### Setup LIBs version\n",
    "So we shall spend our newly created library a version. The CICD simulator provides an according function to do so:"
   ]
  },
  {
   "cell_type": "code",
   "execution_count": null,
   "metadata": {},
   "outputs": [],
   "source": [
    "lib_master = lib.checkout('master')\n",
    "lib_master.set_version('1.0.0')"
   ]
  },
  {
   "cell_type": "markdown",
   "metadata": {},
   "source": [
    "We then commit some file to our project and finally push the branch to the 'Git service'.\n",
    "\n",
    "Pushing, automatically triggers a build at our buildmachine"
   ]
  },
  {
   "cell_type": "code",
   "execution_count": null,
   "metadata": {},
   "outputs": [],
   "source": [
    "lib_master.commit_file('My cool file', 'The file content')\n",
    "lib_master.push()"
   ]
  },
  {
   "cell_type": "markdown",
   "metadata": {},
   "source": [
    "We now have the library project setup and already having created a first build artefact: `lib/1.0.0`. The version number `1.0.0` indicates a \"stable release\" as no pre-release tag is present.\n",
    "\n",
    "That artefact is now stored in our (virtual) Artifactory, as can be checked by the following command"
   ]
  },
  {
   "cell_type": "code",
   "execution_count": null,
   "metadata": {},
   "outputs": [],
   "source": [
    "artifactory.get_artifacts()"
   ]
  },
  {
   "cell_type": "markdown",
   "metadata": {},
   "source": [
    "## Setup Application\n",
    "Create Git repo for the application. We also set the version of this application."
   ]
  },
  {
   "cell_type": "code",
   "execution_count": null,
   "metadata": {},
   "outputs": [],
   "source": [
    "app = bitbucket.create_repo('app')\n",
    "app_master = app.checkout('master')\n",
    "app_master.set_version('0.1.0')"
   ]
  },
  {
   "cell_type": "markdown",
   "metadata": {},
   "source": [
    "This application shall use the previously created library. Therefore, we need to setup 'requires', similar to what you'd do in a `conanfile.py`"
   ]
  },
  {
   "cell_type": "code",
   "execution_count": null,
   "metadata": {},
   "outputs": [],
   "source": [
    "app_master.set_requires('lib/>1.0.0-0')"
   ]
  },
  {
   "cell_type": "markdown",
   "metadata": {},
   "source": [
    "Finally, we push the Git master. This triggers a build at Jenkins. \"Building\" the application means that Jenkins executes a `conan install`. This, in turn, checks the availability of `lib` in the setup version, `>1.0.0-0` in this case.\n",
    "\n",
    "The CICD simulator outputs according messages to indicate the actually found version of `lib` as well as the version of `application` that's finally published to Artifactory"
   ]
  },
  {
   "cell_type": "code",
   "execution_count": null,
   "metadata": {},
   "outputs": [],
   "source": [
    "app_master.push()"
   ]
  },
  {
   "cell_type": "markdown",
   "metadata": {},
   "source": [
    "As mentioned before, there should now be a `app` artifact. Let's check that:"
   ]
  },
  {
   "cell_type": "code",
   "execution_count": null,
   "metadata": {},
   "outputs": [],
   "source": [
    "artifactory.get_artifacts()"
   ]
  }
 ],
 "metadata": {
  "kernelspec": {
   "display_name": "Python 3",
   "language": "python",
   "name": "python3"
  },
  "language_info": {
   "codemirror_mode": {
    "name": "ipython",
    "version": 3
   },
   "file_extension": ".py",
   "mimetype": "text/x-python",
   "name": "python",
   "nbconvert_exporter": "python",
   "pygments_lexer": "ipython3",
   "version": "3.7.4"
  }
 },
 "nbformat": 4,
 "nbformat_minor": 4
}

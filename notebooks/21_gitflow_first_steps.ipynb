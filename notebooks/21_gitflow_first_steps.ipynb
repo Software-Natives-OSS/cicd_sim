{
 "cells": [
  {
   "cell_type": "markdown",
   "metadata": {},
   "source": [
    "# GitFlow - Introduction\n",
    "\n",
    "This notebook assumes you've gone through the previous notebooks, especially\n",
    "\n",
    "- [Create Projects](11_create_projects.ipynb)\n",
    "\n",
    "Here, we dive into [semver](https://semver.org) applied with [GitFlow](https://www.atlassian.com/git/tutorials/comparing-workflows/gitflow-workflow). A basic understanding of these two concepts is a precondition to be able to crasp the essence of this notebook.\n",
    "\n",
    "We setup a `lib` and an `app` project, both following GitFlow. The application is, again, using the library (aka 'requiring' `lib`). In this notebook, we implement a feature on `lib` and see how this affects our `app`..."
   ]
  },
  {
   "cell_type": "markdown",
   "metadata": {},
   "source": [
    "## Preparation\n",
    "As shown in preceeding notebooks, we first have to build the infrastructure. This notebook assumes the reader has worked through the other notebook and therefore it's not being explained here again."
   ]
  },
  {
   "cell_type": "code",
   "execution_count": null,
   "metadata": {},
   "outputs": [],
   "source": [
    "from cicd_sim import *\n",
    "bitbucket = Repos()\n",
    "artifactory = Artifactory()\n",
    "jenkins = Jenkins(artifactory, bitbucket)\n",
    "# ensure 'random' generates the same number each time this notebook is run\n",
    "import random\n",
    "random.seed(123)"
   ]
  },
  {
   "cell_type": "markdown",
   "metadata": {},
   "source": [
    "## Setup Repos\n",
    "Also with no explanation, we are now going to create the repos for `lib` and `app`.\n",
    "\n",
    "One noteworthy difference to the previous notebooks is that we're now starting with the `develop` branch rather than `master`. This makes sense because in this notebook, we're following Gitflow.\n",
    "\n",
    "Each branch can be given a color to enhance readability. The library used to colorize is documented here: https://pypi.org/project/colored/"
   ]
  },
  {
   "cell_type": "code",
   "execution_count": null,
   "metadata": {},
   "outputs": [],
   "source": [
    "lib = bitbucket.create_repo('lib')\n",
    "lib_dev = lib.checkout('develop', 'magenta')\n",
    "\n",
    "app = bitbucket.create_repo('app')\n",
    "app_dev = app.checkout('develop', 'cyan')"
   ]
  },
  {
   "cell_type": "markdown",
   "metadata": {},
   "source": [
    "## Application Version\n",
    "We choose the version of `app` rather arbitrary, as it doesn't matther that much for the sake of this notebook"
   ]
  },
  {
   "cell_type": "code",
   "execution_count": null,
   "metadata": {},
   "outputs": [],
   "source": [
    "app_dev.set_version('0.0.1')"
   ]
  },
  {
   "cell_type": "markdown",
   "metadata": {},
   "source": [
    "## Library Version\n",
    "We set the version of `lib` to `1.0.0`. In the context of GitFlow, the work going into the `develop` branch will become \"the next release\". Therefore, chosing `1.0.0` means that developers are now working \"towards\" version `1.0.0`. (Note: this rule is *not* set into stone and is just one possible way how to put semver and GitFlow into practice)"
   ]
  },
  {
   "cell_type": "code",
   "execution_count": null,
   "metadata": {},
   "outputs": [],
   "source": [
    "lib_dev.set_version('1.0.0')"
   ]
  },
  {
   "cell_type": "markdown",
   "metadata": {},
   "source": [
    "## Setup Application to use particular version of `lib`\n",
    "The application developers need to decide which version of `lib` to use. They may decide to use a very specfic version or a version range. In the latter case, Conan will choose \"the best\" version according to semver rules.\n",
    "\n",
    "Here are the most important options the `app` developer have:\n",
    "\n",
    "- Use an explicit version, e.g. `1.2.3+20020315161502`\n",
    "- Fix `major` and `minor` but automatically pick up the latest bugfix version, e.g. `1.2.x`\n",
    "- Fix only `major`, means: `app` will automatically pick up the latest features and bufixes for a partical API version, e.g. `1.x`\n",
    "\n",
    "In this example, the developers are \"brave developers\" which means that they always pick up the \"latest and greatest\" version with a compatible API version available, i.e. `1.x`\n",
    "\n",
    "The following line tells Conan to use \"the highest version with major API version 1\""
   ]
  },
  {
   "cell_type": "code",
   "execution_count": null,
   "metadata": {},
   "outputs": [],
   "source": [
    "# due to bugs in Conan's semver handling, the following doesn't properly consider \"pre-releases\"\n",
    "#    app_dev.set_requires('lib/1.x')\n",
    "# The following is slightly less readable, but works as expected:\n",
    "app_dev.set_requires('lib/>1.0.0-0') # is roughly the same as 'lib/1.x'"
   ]
  },
  {
   "cell_type": "markdown",
   "metadata": {},
   "source": [
    "## Developing a feature in `lib`\n",
    "As we've setup the two projects, `lib` and `app`, we're now ready to start actual development.\n",
    "\n",
    "One of the `lib` developers decides to implement feature \"A\""
   ]
  },
  {
   "cell_type": "code",
   "execution_count": null,
   "metadata": {},
   "outputs": [],
   "source": [
    "feature_a = lib_dev.checkout('feature/a', 'yellow') # similar to `git checkout -b feature/a`\n",
    "feature_a.commit_file('file_a', 'The file content') # similar to `git add file_a && git commit -m \"...\"`\n",
    "feature_a.push()"
   ]
  },
  {
   "cell_type": "markdown",
   "metadata": {},
   "source": [
    "Pushing the new feature automatically triggers a build at Jenkins. That build serves two purposes:\n",
    "\n",
    "- It tells the developer whether his features \"builds\" and \"tests\" with no errors\n",
    "- It tells BitBucket whether this feature branch is error free and therefore is allowed to be merged back to `develop` branch"
   ]
  },
  {
   "cell_type": "markdown",
   "metadata": {},
   "source": [
    "## Merge feature to `develop`\n",
    "In this case, the feature branch is error free and can be merged back to `develop`. The developer does so and finally pushes the `develop` branch to BitBucket... here, things start getting interesting:"
   ]
  },
  {
   "cell_type": "code",
   "execution_count": null,
   "metadata": {},
   "outputs": [],
   "source": [
    "lib_dev.merge(feature_a)\n",
    "lib_dev.push()"
   ]
  },
  {
   "cell_type": "markdown",
   "metadata": {},
   "source": [
    "## Our first `lib` artifact\n",
    "What happenned? First of all, pushing a branch \"builds it\" as was already the case for the feature branch before, indicated by\n",
    "\n",
    "```\n",
    "BUILDING            lib[develop]\n",
    "```\n",
    "\n",
    "This time, as this was a push on the `develop` branch, the buildmachine published an artifact to Artfactory. This was indicated by the following line:\n",
    "\n",
    "```\n",
    "        PUBLISH     lib[develop]               + lib/1.0.0-200206113900+0000006\n",
    "```\n",
    "\n",
    "The '+' sign indicates a new artifact being put to Artifactory."
   ]
  },
  {
   "cell_type": "markdown",
   "metadata": {},
   "source": [
    "## (Re-)building `app`\n",
    "But there's more. Because a new artifact was pushed to Artifactory, the `app`'s `develop` branch was built, because that branch was setup to consume `lib` artifacts in the version range of `1.x`. The build is indicated by the following two line:\n",
    "\n",
    "```\n",
    "BUILDING            app[develop]\n",
    "    INSTALLING      app[develop]               * lib/1.0.0-200206113900+0000006\n",
    "```\n",
    "\n",
    "Very important to notice here, is that Conan did install (denoted by a '*') the previously built artifact of `lib`: `lib/1.0.0-200206113900+0000006`.\n",
    "\n",
    "Finally, building `app` also produces an artifact which get's published at Artifactory, as indicated by the following line:\n",
    "\n",
    "```\n",
    "        PUBLISH     app[develop]               + app/0.0.1-200209125600+0000004\n",
    "```\n",
    "\n",
    "Therefore, we'd expect a total of two artifact being at Artifactory, which can be checked by the following command:"
   ]
  },
  {
   "cell_type": "code",
   "execution_count": null,
   "metadata": {},
   "outputs": [],
   "source": [
    "artifactory.get_artifacts()"
   ]
  }
 ],
 "metadata": {
  "kernelspec": {
   "display_name": "Python 3",
   "language": "python",
   "name": "python3"
  },
  "language_info": {
   "codemirror_mode": {
    "name": "ipython",
    "version": 3
   },
   "file_extension": ".py",
   "mimetype": "text/x-python",
   "name": "python",
   "nbconvert_exporter": "python",
   "pygments_lexer": "ipython3",
   "version": "3.7.4"
  }
 },
 "nbformat": 4,
 "nbformat_minor": 4
}

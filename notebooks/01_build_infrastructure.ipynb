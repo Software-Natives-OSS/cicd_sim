{
 "cells": [
  {
   "cell_type": "markdown",
   "metadata": {},
   "source": [
    "# Create Infrastructure\n",
    "In this notebook, we learn how to create the CICD infrastructre. Therefore, we need the following components:\n",
    "\n",
    "- A Git repo hosting service\n",
    "- Buildmachine\n",
    "- An artifact store"
   ]
  },
  {
   "cell_type": "markdown",
   "metadata": {},
   "source": [
    "## Import CICD Simulator\n",
    "First of all, import the Python library"
   ]
  },
  {
   "cell_type": "code",
   "execution_count": null,
   "metadata": {},
   "outputs": [],
   "source": [
    "from cicd_sim import *"
   ]
  },
  {
   "cell_type": "markdown",
   "metadata": {},
   "source": [
    "## Create a Git repo service\n",
    "A Git service can host multiple Git repos, such as:\n",
    "\n",
    "- A Git repo for `Library A`\n",
    "- Another Git repo for `Library B`\n",
    "- Another Git repo for `Application Z`\n",
    "- ...\n",
    "\n",
    "Well known Git hosting application/services are\n",
    "\n",
    "- GitHub\n",
    "- GitLab\n",
    "- BitBucket\n",
    "\n",
    "In this example, we use `bitbucket` as the name for this service"
   ]
  },
  {
   "cell_type": "code",
   "execution_count": null,
   "metadata": {},
   "outputs": [],
   "source": [
    "bitbucket = Repos()"
   ]
  },
  {
   "cell_type": "markdown",
   "metadata": {},
   "source": [
    "## Create the Artifact Store\n",
    "At the artifact store, the \"artefacts\" resulting from a software build are stored.\n",
    "\n",
    "For libraries, this usually includes header files, .lib/.a, .dll/.so files, etc. For applications, the \"build artefacts\" may contain .exe/ELF files, etc. Rather simplified, the artifact store can be seen as a \"Git for binaries\".\n",
    "\n",
    "Well known products are JFrog's Artifactory and Sonatype's Nexus Repository. This CICD simulator comes with a class named \"Artifactory\" to represent artifact stores."
   ]
  },
  {
   "cell_type": "code",
   "execution_count": null,
   "metadata": {},
   "outputs": [],
   "source": [
    "artifactory = Artifactory()"
   ]
  },
  {
   "cell_type": "markdown",
   "metadata": {},
   "source": [
    "## Create a Buildmachine\n",
    "Finally, we need a buildmachine. There are dozens of products out there. Jenkins is a widely used and thus well known buildmachine. This CICD simulator currently provides an implementation of the buildmachine named Jenkins.\n",
    "\n",
    "In this CICD simulator, the buildmachine is kind of \"the center\" of the infrastructure. That's why it needs to be setup with a valid artifact store and git repo service."
   ]
  },
  {
   "cell_type": "code",
   "execution_count": null,
   "metadata": {},
   "outputs": [],
   "source": [
    "jenkins = Jenkins(artifactory, bitbucket)"
   ]
  },
  {
   "cell_type": "markdown",
   "metadata": {},
   "source": [
    "## What have built so far?\n",
    "\n",
    "With this infrastructure at hand, we are now able to\n",
    "\n",
    "- Create Git repositories. Create one for each \"project\"\n",
    "- Commit files to the repos and push them\n",
    "- Upon a `git push`, Bitbucket, our Git hosting service, will notify Jenkins\n",
    "- Jenkins will check the pushed files\n",
    "- Run `conan install` to resolve any dependencies\n",
    "- `conan build` the project\n",
    "- Publish the resulting artifact at Artifactory\n",
    "\n",
    "These steps are shown in more detail in the following notebooks."
   ]
  },
  {
   "cell_type": "code",
   "execution_count": null,
   "metadata": {},
   "outputs": [],
   "source": []
  }
 ],
 "metadata": {
  "kernelspec": {
   "display_name": "Python 3",
   "language": "python",
   "name": "python3"
  },
  "language_info": {
   "codemirror_mode": {
    "name": "ipython",
    "version": 3
   },
   "file_extension": ".py",
   "mimetype": "text/x-python",
   "name": "python",
   "nbconvert_exporter": "python",
   "pygments_lexer": "ipython3",
   "version": "3.7.4"
  }
 },
 "nbformat": 4,
 "nbformat_minor": 4
}

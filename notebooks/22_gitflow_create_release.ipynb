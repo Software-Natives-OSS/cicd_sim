{
 "cells": [
  {
   "cell_type": "markdown",
   "metadata": {},
   "source": [
    "# GitFlow - Release\n",
    "\n",
    "This notebook assumes you've gone through the previous notebooks, especially\n",
    "\n",
    "- [Create Projects](11_create_projects.ipynb)\n",
    "- [GitFlow First Steps](21_gitflow_first_steps.ipynb)\n",
    "\n",
    "This notebooks prepares `lib` and `app` so that `app`'s `develop` branch consumes the \"latest and greatest\" API compatible version of `lib` (e.g. `1.x`).\n",
    "\n",
    "It then creates a `release` of `lib` and `app` and ensures that the release of `app` consumes the release version of `lib` rather then the `develop` version."
   ]
  },
  {
   "cell_type": "markdown",
   "metadata": {},
   "source": [
    "## Preparation\n",
    "As shown in preceeding notebooks, we first have to build the infrastructure. This notebook assumes the reader has worked through the other notebook and therefore it's not being explained here again."
   ]
  },
  {
   "cell_type": "code",
   "execution_count": null,
   "metadata": {},
   "outputs": [],
   "source": [
    "from cicd_sim import *\n",
    "bitbucket = Repos()\n",
    "artifactory = Artifactory()\n",
    "jenkins = Jenkins(artifactory, bitbucket)\n",
    "# ensure 'random' generates the same number each time this notebook is run\n",
    "import random\n",
    "random.seed(123)"
   ]
  },
  {
   "cell_type": "markdown",
   "metadata": {},
   "source": [
    "## Setup Repos\n",
    "\n",
    "As done in the preceeding notebooks, prepare the repos."
   ]
  },
  {
   "cell_type": "code",
   "execution_count": null,
   "metadata": {},
   "outputs": [],
   "source": [
    "lib = bitbucket.create_repo('lib')\n",
    "lib_dev = lib.checkout('develop', 'magenta')\n",
    "lib_dev.set_version('1.2.0')\n",
    "\n",
    "app = bitbucket.create_repo('app')\n",
    "app_dev = app.checkout('develop', 'cyan')\n",
    "app_dev.set_version('4.0.0')\n",
    "app_dev.set_requires('lib/1.x')"
   ]
  },
  {
   "cell_type": "markdown",
   "metadata": {},
   "source": [
    "## Versioning with pre-releases\n",
    "\n",
    "The benefit of using pre-releases is that no merge conflicts will happen."
   ]
  },
  {
   "cell_type": "code",
   "execution_count": null,
   "metadata": {},
   "outputs": [],
   "source": [
    "lib_dev.merge(lib_dev.checkout('feature/a').commit_file('feature a', 'aaaaa')).push()"
   ]
  },
  {
   "cell_type": "code",
   "execution_count": null,
   "metadata": {},
   "outputs": [],
   "source": [
    "lib_dev.merge(lib_dev.checkout('feature/b').commit_file('feature b', 'bbbbb')).push()"
   ]
  },
  {
   "cell_type": "markdown",
   "metadata": {},
   "source": [
    "Similar stuff's happening on `app`..."
   ]
  },
  {
   "cell_type": "code",
   "execution_count": null,
   "metadata": {},
   "outputs": [],
   "source": [
    "# multiple developers start working on feature branches...\n",
    "app_dev.merge(app_dev.checkout('feature/a').commit_file('feature a', 'aaaaa').commit_file('feature a2', '2222222')).push()\n",
    "app_dev.merge(app_dev.checkout('feature/b').commit_file('feature b', 'bbbbb')).push()\n",
    "app_dev.merge(app_dev.checkout('feature/c').commit_file('feature c', 'ccccc')).push()"
   ]
  },
  {
   "cell_type": "markdown",
   "metadata": {},
   "source": [
    "## Application Version\n",
    "\n",
    "Now, we want to release `app`. Therefore, we first release `lib`...\n",
    "\n",
    "See how the published `lib` release candidate (`rc`) will immediately be picked up the `app`'s `develop` branch which was setup to consume 'latest and greatest':"
   ]
  },
  {
   "cell_type": "code",
   "execution_count": null,
   "metadata": {},
   "outputs": [],
   "source": [
    "lib_release = lib_dev.checkout('release/1.2.0', 'yellow')\n",
    "lib_release.push()"
   ]
  },
  {
   "cell_type": "markdown",
   "metadata": {},
   "source": [
    "## Library Version\n",
    "\n",
    "While `lib` is going to be stabilized for being released, `lib` developement will continue on `develop`."
   ]
  },
  {
   "cell_type": "code",
   "execution_count": null,
   "metadata": {},
   "outputs": [],
   "source": [
    "lib_dev.merge(lib_dev.checkout('feature/showMustGoOn').commit_file('ShowMustGo', 'ON!')).push()"
   ]
  },
  {
   "cell_type": "markdown",
   "metadata": {},
   "source": [
    "## Oooops\n",
    "\n",
    "The developers at `lib` forgot to increase `lib` version to work \"towards the next release\". The \"next release\" may contain \"additional features\" or \"API changes\"... depending on that decision, the version must be adjusted to either `1.3.0` or `2.0.0`.\n",
    "\n",
    "Note that although the version has not been adjusted by mistake, `app` still uses the \"better\" version, which is the \"realease candidate\" (`rc`) in this case. Therefore: It didn't do any harm..."
   ]
  },
  {
   "cell_type": "code",
   "execution_count": null,
   "metadata": {},
   "outputs": [],
   "source": [
    "lib_next_version = lib_dev.checkout('feature/IncreaseVersion')\n",
    "lib_next_version.set_version('1.3.0')\n",
    "lib_dev.merge(lib_next_version).push()"
   ]
  },
  {
   "cell_type": "markdown",
   "metadata": {},
   "source": [
    "## Create `app` release\n",
    "\n",
    "Now it's time to creat a release of `app`..."
   ]
  },
  {
   "cell_type": "code",
   "execution_count": null,
   "metadata": {},
   "outputs": [],
   "source": [
    "app_release = app_dev.checkout('release/4.0.0', 'yellow')\n",
    "app_release.set_requires('lib/>1.2.0-0 <1.3.0-0')\n",
    "app_release.push()"
   ]
  },
  {
   "cell_type": "markdown",
   "metadata": {},
   "source": [
    "## Bugfix on `lib`\n",
    "\n",
    "`lib` needs bug fixing..."
   ]
  },
  {
   "cell_type": "code",
   "execution_count": null,
   "metadata": {},
   "outputs": [],
   "source": [
    "lib_release.commit_file('bugfix', 'fixed!').push()"
   ]
  },
  {
   "cell_type": "markdown",
   "metadata": {},
   "source": [
    "## `lib` released"
   ]
  },
  {
   "cell_type": "code",
   "execution_count": null,
   "metadata": {},
   "outputs": [],
   "source": [
    "lib_master = lib.checkout('master', 'green')\n",
    "lib_master.merge(lib_release).push()"
   ]
  },
  {
   "cell_type": "markdown",
   "metadata": {},
   "source": [
    "## `app` released"
   ]
  },
  {
   "cell_type": "code",
   "execution_count": null,
   "metadata": {},
   "outputs": [],
   "source": [
    "app_master = app.checkout('master', 'green')\n",
    "app_master.merge(app_release).push()"
   ]
  },
  {
   "cell_type": "markdown",
   "metadata": {},
   "source": [
    "## Working on `app`'s `develop` continues"
   ]
  },
  {
   "cell_type": "code",
   "execution_count": null,
   "metadata": {},
   "outputs": [],
   "source": [
    "app_dev.set_version('4.1.0')\n",
    "app_dev.push()"
   ]
  },
  {
   "cell_type": "markdown",
   "metadata": {},
   "source": [
    "## Hotfix on `app`"
   ]
  },
  {
   "cell_type": "code",
   "execution_count": null,
   "metadata": {},
   "outputs": [],
   "source": [
    "app_hotfix = app_master.checkout('hotfix/4.0.1', 'yellow')\n",
    "app_hotfix.set_version('4.0.1')\n",
    "app_hotfix.commit_file('fixit', 'done.')\n",
    "app_hotfix.push()"
   ]
  },
  {
   "cell_type": "code",
   "execution_count": null,
   "metadata": {},
   "outputs": [],
   "source": [
    "app_master.merge(app_hotfix).push()"
   ]
  },
  {
   "cell_type": "code",
   "execution_count": null,
   "metadata": {},
   "outputs": [],
   "source": []
  }
 ],
 "metadata": {
  "kernelspec": {
   "display_name": "Python 3",
   "language": "python",
   "name": "python3"
  },
  "language_info": {
   "codemirror_mode": {
    "name": "ipython",
    "version": 3
   },
   "file_extension": ".py",
   "mimetype": "text/x-python",
   "name": "python",
   "nbconvert_exporter": "python",
   "pygments_lexer": "ipython3",
   "version": "3.7.4"
  }
 },
 "nbformat": 4,
 "nbformat_minor": 4
}

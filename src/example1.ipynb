{
 "cells": [
  {
   "cell_type": "markdown",
   "metadata": {},
   "source": [
    "# Simple\n",
    "One Application with a dependency to one Library"
   ]
  },
  {
   "cell_type": "code",
   "execution_count": 1,
   "metadata": {},
   "outputs": [],
   "source": [
    "from cicd_sim import *"
   ]
  },
  {
   "cell_type": "code",
   "execution_count": 2,
   "metadata": {},
   "outputs": [],
   "source": [
    "# have reproducible build artifact names\n",
    "import random\n",
    "random.seed(123)"
   ]
  },
  {
   "cell_type": "markdown",
   "metadata": {},
   "source": [
    "## Create Infrastructure"
   ]
  },
  {
   "cell_type": "code",
   "execution_count": 3,
   "metadata": {},
   "outputs": [],
   "source": [
    "output = StdOutput()\n",
    "bb = Repos()\n",
    "conan = Conan(output)\n",
    "artifactory = Artifactory()\n",
    "build_id = BuildIdGenerator()\n",
    "jenkins = Jenkins(artifactory, conan, bb, output, build_id)"
   ]
  },
  {
   "cell_type": "markdown",
   "metadata": {},
   "source": [
    "## Initiate Library"
   ]
  },
  {
   "cell_type": "code",
   "execution_count": 4,
   "metadata": {},
   "outputs": [
    {
     "name": "stdout",
     "output_type": "stream",
     "text": [
      "BUILDING            \u001b[48;5;4mlib[develop]\u001b[0m\n",
      "        PUBLISH     \u001b[48;5;4mlib[develop]\u001b[0m               + lib/1.0.0-200206113900+0000003\n"
     ]
    }
   ],
   "source": [
    "lib = bb.create_repo('lib', jenkins)\n",
    "lib_dev = lib.create_branch('develop', 'blue')\n",
    "lib_dev.commit_file('VERSION', '1.0.0')\n",
    "lib_dev.push()"
   ]
  },
  {
   "cell_type": "markdown",
   "metadata": {},
   "source": [
    "## Initiate Application"
   ]
  },
  {
   "cell_type": "code",
   "execution_count": 5,
   "metadata": {},
   "outputs": [
    {
     "name": "stdout",
     "output_type": "stream",
     "text": [
      "BUILDING            \u001b[48;5;5mapp[develop]\u001b[0m\n",
      "    INSTALLING      \u001b[48;5;5mapp[develop]\u001b[0m               * lib/1.0.0-200206113900+0000003\n",
      "        PUBLISH     \u001b[48;5;5mapp[develop]\u001b[0m               + app/1.0.0-200209125600+0000004\n"
     ]
    }
   ],
   "source": [
    "app = bb.create_repo('app', jenkins)\n",
    "app_dev = app.create_branch('develop', 'magenta')\n",
    "app_dev.commit_file('VERSION', '1.0.0')\n",
    "app_dev.commit_file('REQUIRES', 'lib/>1.0.0-0')\n",
    "app_dev.push()"
   ]
  },
  {
   "cell_type": "markdown",
   "metadata": {},
   "source": [
    "## Create Library 'Feature A'"
   ]
  },
  {
   "cell_type": "code",
   "execution_count": 6,
   "metadata": {},
   "outputs": [
    {
     "name": "stdout",
     "output_type": "stream",
     "text": [
      "BUILDING            \u001b[48;5;7mlib[feature/A]\u001b[0m\n",
      "        PUBLISH     \u001b[48;5;7mlib[feature/A]\u001b[0m             + lib/1.0.0-200210125600+0000005\n",
      "BUILDING            \u001b[48;5;5mapp[develop]\u001b[0m\n",
      "    INSTALLING      \u001b[48;5;5mapp[develop]\u001b[0m               * lib/1.0.0-200210125600+0000005\n",
      "        PUBLISH     \u001b[48;5;5mapp[develop]\u001b[0m               + app/1.0.0-200215042000+0000004\n"
     ]
    }
   ],
   "source": [
    "feature_a = lib_dev.create_branch('feature/A', 'light_gray')\n",
    "feature_a.commit_file('Feature A File', 'AAAAA')\n",
    "feature_a.push()"
   ]
  },
  {
   "cell_type": "markdown",
   "metadata": {},
   "source": [
    "# Merge feature to 'develop'"
   ]
  },
  {
   "cell_type": "code",
   "execution_count": 7,
   "metadata": {},
   "outputs": [
    {
     "name": "stdout",
     "output_type": "stream",
     "text": [
      "BUILDING            \u001b[48;5;4mlib[develop]\u001b[0m\n",
      "        PUBLISH     \u001b[48;5;4mlib[develop]\u001b[0m               + lib/1.0.0-200218051900+0000006\n",
      "BUILDING            \u001b[48;5;5mapp[develop]\u001b[0m\n",
      "    INSTALLING      \u001b[48;5;5mapp[develop]\u001b[0m               * lib/1.0.0-200218051900+0000006\n",
      "        PUBLISH     \u001b[48;5;5mapp[develop]\u001b[0m               + app/1.0.0-200219105500+0000004\n"
     ]
    }
   ],
   "source": [
    "lib_dev.merge(feature_a)\n",
    "lib_dev.push()"
   ]
  },
  {
   "cell_type": "markdown",
   "metadata": {},
   "source": [
    "# Trigger a manual 'Application' build"
   ]
  },
  {
   "cell_type": "code",
   "execution_count": 8,
   "metadata": {},
   "outputs": [
    {
     "name": "stdout",
     "output_type": "stream",
     "text": [
      "BUILDING            \u001b[48;5;5mapp[develop]\u001b[0m\n",
      "    INSTALLING      \u001b[48;5;5mapp[develop]\u001b[0m               * lib/1.0.0-200218051900+0000006\n",
      "        PUBLISH     \u001b[48;5;5mapp[develop]\u001b[0m               + app/1.0.0-200219213200+0000004\n"
     ]
    }
   ],
   "source": [
    "jenkins.build(app_dev)"
   ]
  },
  {
   "cell_type": "markdown",
   "metadata": {},
   "source": [
    "# Trigger a manual 'Library' build\n",
    "This will cause yet another application build because the version of the library increased"
   ]
  },
  {
   "cell_type": "code",
   "execution_count": 9,
   "metadata": {},
   "outputs": [
    {
     "name": "stdout",
     "output_type": "stream",
     "text": [
      "BUILDING            \u001b[48;5;4mlib[develop]\u001b[0m\n",
      "        PUBLISH     \u001b[48;5;4mlib[develop]\u001b[0m               + lib/1.0.0-200224051500+0000006\n",
      "BUILDING            \u001b[48;5;5mapp[develop]\u001b[0m\n",
      "    INSTALLING      \u001b[48;5;5mapp[develop]\u001b[0m               * lib/1.0.0-200224051500+0000006\n",
      "        PUBLISH     \u001b[48;5;5mapp[develop]\u001b[0m               + app/1.0.0-200301075200+0000004\n"
     ]
    }
   ],
   "source": [
    "jenkins.build(lib_dev)"
   ]
  },
  {
   "cell_type": "markdown",
   "metadata": {},
   "source": [
    "# Create 'Library release' branch"
   ]
  },
  {
   "cell_type": "code",
   "execution_count": 10,
   "metadata": {},
   "outputs": [
    {
     "name": "stdout",
     "output_type": "stream",
     "text": [
      "BUILDING            \u001b[48;5;3mlib[release/R125]\u001b[0m\n",
      "        PUBLISH     \u001b[48;5;3mlib[release/R125]\u001b[0m          + lib/1.0.0-rc.200307173700+0000007\n",
      "BUILDING            \u001b[48;5;5mapp[develop]\u001b[0m\n",
      "    INSTALLING      \u001b[48;5;5mapp[develop]\u001b[0m               * lib/1.0.0-rc.200307173700+0000007\n",
      "        PUBLISH     \u001b[48;5;5mapp[develop]\u001b[0m               + app/1.0.0-200311123100+0000004\n"
     ]
    }
   ],
   "source": [
    "lib_r125 = lib_dev.create_branch('release/R125', 'yellow')\n",
    "lib_r125.push()"
   ]
  },
  {
   "cell_type": "markdown",
   "metadata": {},
   "source": [
    "# Bump library version"
   ]
  },
  {
   "cell_type": "code",
   "execution_count": 11,
   "metadata": {},
   "outputs": [
    {
     "name": "stdout",
     "output_type": "stream",
     "text": [
      "BUILDING            \u001b[48;5;4mlib[develop]\u001b[0m\n",
      "        PUBLISH     \u001b[48;5;4mlib[develop]\u001b[0m               + lib/1.1.0-200315094600+0000008\n",
      "BUILDING            \u001b[48;5;5mapp[develop]\u001b[0m\n",
      "    INSTALLING      \u001b[48;5;5mapp[develop]\u001b[0m               * lib/1.1.0-200315094600+0000008\n",
      "        PUBLISH     \u001b[48;5;5mapp[develop]\u001b[0m               + app/1.0.0-200316000800+0000004\n"
     ]
    }
   ],
   "source": [
    "lib_dev.commit_file('VERSION', '1.1.0').push()"
   ]
  },
  {
   "cell_type": "markdown",
   "metadata": {},
   "source": [
    "# Create 'Application release' branch"
   ]
  },
  {
   "cell_type": "code",
   "execution_count": 12,
   "metadata": {},
   "outputs": [
    {
     "name": "stdout",
     "output_type": "stream",
     "text": [
      "BUILDING            \u001b[48;5;3mapp[release/R125]\u001b[0m\n",
      "    INSTALLING      \u001b[48;5;3mapp[release/R125]\u001b[0m          * lib/1.0.0-rc.200307173700+0000007\n",
      "        PUBLISH     \u001b[48;5;3mapp[release/R125]\u001b[0m          + app/1.0.0-rc.200317195500+0000006\n"
     ]
    }
   ],
   "source": [
    "app_release = app_dev.create_branch('release/R125', 'yellow').commit_file('REQUIRES', 'lib/>1.0.0-0 <=1.0.0')\n",
    "app_release.push()\n",
    "# app_dev.push()\n",
    "# app_dev.get_file_content('REQUIRES')"
   ]
  },
  {
   "cell_type": "markdown",
   "metadata": {},
   "source": [
    "# Fix an issue for R125"
   ]
  },
  {
   "cell_type": "code",
   "execution_count": 13,
   "metadata": {},
   "outputs": [
    {
     "name": "stdout",
     "output_type": "stream",
     "text": [
      "BUILDING            \u001b[48;5;3mlib[release/R125]\u001b[0m\n",
      "        PUBLISH     \u001b[48;5;3mlib[release/R125]\u001b[0m          + lib/1.0.0-rc.200319085900+0000009\n",
      "BUILDING            \u001b[48;5;3mapp[release/R125]\u001b[0m\n",
      "    INSTALLING      \u001b[48;5;3mapp[release/R125]\u001b[0m          * lib/1.0.0-rc.200319085900+0000009\n",
      "        PUBLISH     \u001b[48;5;3mapp[release/R125]\u001b[0m          + app/1.0.0-rc.200323051500+0000006\n"
     ]
    }
   ],
   "source": [
    "lib_r125.commit_file('FixR125', 'A pretty cool fix').push()"
   ]
  },
  {
   "cell_type": "markdown",
   "metadata": {},
   "source": [
    "# Merge R125 fix back to develop"
   ]
  },
  {
   "cell_type": "code",
   "execution_count": 14,
   "metadata": {},
   "outputs": [
    {
     "name": "stdout",
     "output_type": "stream",
     "text": [
      "BUILDING            \u001b[48;5;4mlib[develop]\u001b[0m\n",
      "        PUBLISH     \u001b[48;5;4mlib[develop]\u001b[0m               + lib/1.0.0-200329143700+0000010\n"
     ]
    }
   ],
   "source": [
    "lib_dev.merge(lib_r125).push()"
   ]
  },
  {
   "cell_type": "markdown",
   "metadata": {},
   "source": [
    "# Finalize R125"
   ]
  },
  {
   "cell_type": "code",
   "execution_count": 15,
   "metadata": {},
   "outputs": [
    {
     "name": "stdout",
     "output_type": "stream",
     "text": [
      "BUILDING            \u001b[48;5;2mlib[master]\u001b[0m\n",
      "        PUBLISH     \u001b[48;5;2mlib[master]\u001b[0m                + lib/1.0.0\n",
      "BUILDING            \u001b[48;5;3mapp[release/R125]\u001b[0m\n",
      "    INSTALLING      \u001b[48;5;3mapp[release/R125]\u001b[0m          * lib/1.0.0\n",
      "        PUBLISH     \u001b[48;5;3mapp[release/R125]\u001b[0m          + app/1.0.0-rc.200405050500+0000006\n"
     ]
    }
   ],
   "source": [
    "lib_master = lib.checkout('master')\n",
    "lib_master.merge(lib_r125)\n",
    "lib_r125.delete()\n",
    "lib_master.push()"
   ]
  },
  {
   "cell_type": "code",
   "execution_count": null,
   "metadata": {},
   "outputs": [],
   "source": []
  },
  {
   "cell_type": "code",
   "execution_count": null,
   "metadata": {},
   "outputs": [],
   "source": []
  }
 ],
 "metadata": {
  "kernelspec": {
   "display_name": "Python 3",
   "language": "python",
   "name": "python3"
  },
  "language_info": {
   "codemirror_mode": {
    "name": "ipython",
    "version": 3
   },
   "file_extension": ".py",
   "mimetype": "text/x-python",
   "name": "python",
   "nbconvert_exporter": "python",
   "pygments_lexer": "ipython3",
   "version": "3.7.6"
  }
 },
 "nbformat": 4,
 "nbformat_minor": 4
}
